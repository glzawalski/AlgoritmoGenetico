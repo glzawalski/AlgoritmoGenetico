{
 "cells": [
  {
   "cell_type": "code",
   "execution_count": 56,
   "metadata": {},
   "outputs": [
    {
     "ename": "SyntaxError",
     "evalue": "invalid syntax (<ipython-input-56-1228eceeb048>, line 23)",
     "output_type": "error",
     "traceback": [
      "\u001b[1;36m  File \u001b[1;32m\"<ipython-input-56-1228eceeb048>\"\u001b[1;36m, line \u001b[1;32m23\u001b[0m\n\u001b[1;33m    %%writefile ag.py\u001b[0m\n\u001b[1;37m    ^\u001b[0m\n\u001b[1;31mSyntaxError\u001b[0m\u001b[1;31m:\u001b[0m invalid syntax\n"
     ]
    }
   ],
   "source": [
    "import numpy\n",
    "import random\n",
    "\n",
    "def power(lista):\n",
    "    return [ x**2 for x in lista ]\n",
    "\n",
    "def schwefel(cromossomo):\n",
    "    sum = numpy.sum(cromossomo * numpy.sin(numpy.sqrt(map(abs, cromossomo))))\n",
    "    return 418.9829 * 2 - sum\n",
    "\n",
    "def rastrigin(cromossomo):\n",
    "    return 20 + sum(power(cromossomo)) - 10 * (sum(numpy.cos(cromossomo) * 2 * math.pi))\n",
    "\n",
    "def gerarCromossomo(minimo, maximo, tamanho):\n",
    "    return [random.uniform(minimo, maximo) for _ in xrange(tamanho)]\n",
    "\n",
    "def gerarPopulacao(numeroSolucoes, tamanhoSolucoes, minimo, maximo):\n",
    "    return numpy.random.uniform(low = minimo, high = maximo, size = [numeroSolucoes, tamanhoSolucoes])\n",
    "\n",
    "gerarPopulacao(10, 2, -500, 500)\n",
    "rastrigin(gerarCromossomo(-10, 10, 2))\n",
    "\n",
    "%%writefile ag.py"
   ]
  }
 ],
 "metadata": {
  "kernelspec": {
   "display_name": "Python 2",
   "language": "python",
   "name": "python2"
  },
  "language_info": {
   "codemirror_mode": {
    "name": "ipython",
    "version": 2
   },
   "file_extension": ".py",
   "mimetype": "text/x-python",
   "name": "python",
   "nbconvert_exporter": "python",
   "pygments_lexer": "ipython2",
   "version": "2.7.15"
  }
 },
 "nbformat": 4,
 "nbformat_minor": 2
}
